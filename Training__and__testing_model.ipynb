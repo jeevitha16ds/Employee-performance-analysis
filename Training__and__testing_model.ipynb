{
  "nbformat": 4,
  "nbformat_minor": 0,
  "metadata": {
    "colab": {
      "name": "Training _and_ testing_model.ipynb",
      "provenance": []
    },
    "kernelspec": {
      "name": "python3",
      "display_name": "Python 3"
    },
    "language_info": {
      "name": "python"
    }
  },
  "cells": [
    {
      "cell_type": "markdown",
      "metadata": {
        "id": "xzEVvj-LkG4w"
      },
      "source": [
        "# Training and testing the model"
      ]
    },
    {
      "cell_type": "code",
      "metadata": {
        "id": "3PSrAJ9uGbhn"
      },
      "source": [
        "# Import basic Libraries\n",
        "import numpy as np\n",
        "import pandas as pd\n",
        "import matplotlib.pyplot as plt\n",
        "import seaborn as sns\n",
        "%matplotlib inline\n",
        "import warnings\n",
        "warnings.filterwarnings('ignore')"
      ],
      "execution_count": null,
      "outputs": []
    },
    {
      "cell_type": "code",
      "metadata": {
        "colab": {
          "base_uri": "https://localhost:8080/",
          "height": 243
        },
        "id": "xHB7I9UpHNke",
        "outputId": "1aa21c8d-99a0-457f-e1d5-77d90a41a206"
      },
      "source": [
        "# read data file\n",
        "data=pd.read_excel('Employee_analysis_transformed_data.xls')\n",
        "data.head()"
      ],
      "execution_count": null,
      "outputs": [
        {
          "output_type": "execute_result",
          "data": {
            "text/html": [
              "<div>\n",
              "<style scoped>\n",
              "    .dataframe tbody tr th:only-of-type {\n",
              "        vertical-align: middle;\n",
              "    }\n",
              "\n",
              "    .dataframe tbody tr th {\n",
              "        vertical-align: top;\n",
              "    }\n",
              "\n",
              "    .dataframe thead th {\n",
              "        text-align: right;\n",
              "    }\n",
              "</style>\n",
              "<table border=\"1\" class=\"dataframe\">\n",
              "  <thead>\n",
              "    <tr style=\"text-align: right;\">\n",
              "      <th></th>\n",
              "      <th>Unnamed: 0</th>\n",
              "      <th>Age</th>\n",
              "      <th>DistanceFromHome</th>\n",
              "      <th>EmpEducationLevel</th>\n",
              "      <th>EmpEnvironmentSatisfaction</th>\n",
              "      <th>EmpHourlyRate</th>\n",
              "      <th>EmpJobInvolvement</th>\n",
              "      <th>EmpJobLevel</th>\n",
              "      <th>EmpJobSatisfaction</th>\n",
              "      <th>NumCompaniesWorked</th>\n",
              "      <th>EmpLastSalaryHikePercent</th>\n",
              "      <th>EmpRelationshipSatisfaction</th>\n",
              "      <th>TotalWorkExperienceInYears</th>\n",
              "      <th>TrainingTimesLastYear</th>\n",
              "      <th>EmpWorkLifeBalance</th>\n",
              "      <th>ExperienceYearsAtThisCompany</th>\n",
              "      <th>ExperienceYearsInCurrentRole</th>\n",
              "      <th>YearsSinceLastPromotion</th>\n",
              "      <th>YearsWithCurrManager</th>\n",
              "      <th>Gender_Female</th>\n",
              "      <th>Gender_Male</th>\n",
              "      <th>EducationBackground_Human Resources</th>\n",
              "      <th>EducationBackground_Life Sciences</th>\n",
              "      <th>EducationBackground_Marketing</th>\n",
              "      <th>EducationBackground_Medical</th>\n",
              "      <th>EducationBackground_Other</th>\n",
              "      <th>EducationBackground_Technical Degree</th>\n",
              "      <th>MaritalStatus_Divorced</th>\n",
              "      <th>MaritalStatus_Married</th>\n",
              "      <th>MaritalStatus_Single</th>\n",
              "      <th>EmpDepartment_Data Science</th>\n",
              "      <th>EmpDepartment_Development</th>\n",
              "      <th>EmpDepartment_Finance</th>\n",
              "      <th>EmpDepartment_Human Resources</th>\n",
              "      <th>EmpDepartment_Research &amp; Development</th>\n",
              "      <th>EmpDepartment_Sales</th>\n",
              "      <th>EmpJobRole_Business Analyst</th>\n",
              "      <th>EmpJobRole_Data Scientist</th>\n",
              "      <th>EmpJobRole_Delivery Manager</th>\n",
              "      <th>EmpJobRole_Developer</th>\n",
              "      <th>EmpJobRole_Finance Manager</th>\n",
              "      <th>EmpJobRole_Healthcare Representative</th>\n",
              "      <th>EmpJobRole_Human Resources</th>\n",
              "      <th>EmpJobRole_Laboratory Technician</th>\n",
              "      <th>EmpJobRole_Manager</th>\n",
              "      <th>EmpJobRole_Manager R&amp;D</th>\n",
              "      <th>EmpJobRole_Manufacturing Director</th>\n",
              "      <th>EmpJobRole_Research Director</th>\n",
              "      <th>EmpJobRole_Research Scientist</th>\n",
              "      <th>EmpJobRole_Sales Executive</th>\n",
              "      <th>EmpJobRole_Sales Representative</th>\n",
              "      <th>EmpJobRole_Senior Developer</th>\n",
              "      <th>EmpJobRole_Senior Manager R&amp;D</th>\n",
              "      <th>EmpJobRole_Technical Architect</th>\n",
              "      <th>EmpJobRole_Technical Lead</th>\n",
              "      <th>BusinessTravelFrequency_Non-Travel</th>\n",
              "      <th>BusinessTravelFrequency_Travel_Frequently</th>\n",
              "      <th>BusinessTravelFrequency_Travel_Rarely</th>\n",
              "      <th>OverTime_No</th>\n",
              "      <th>OverTime_Yes</th>\n",
              "      <th>Attrition_No</th>\n",
              "      <th>Attrition_Yes</th>\n",
              "      <th>PerformanceRating</th>\n",
              "    </tr>\n",
              "  </thead>\n",
              "  <tbody>\n",
              "    <tr>\n",
              "      <th>0</th>\n",
              "      <td>0</td>\n",
              "      <td>0.333333</td>\n",
              "      <td>0.321429</td>\n",
              "      <td>0.50</td>\n",
              "      <td>1.000000</td>\n",
              "      <td>0.357143</td>\n",
              "      <td>0.666667</td>\n",
              "      <td>0.25</td>\n",
              "      <td>1.0</td>\n",
              "      <td>0.111111</td>\n",
              "      <td>0.071429</td>\n",
              "      <td>1.000000</td>\n",
              "      <td>0.250</td>\n",
              "      <td>0.333333</td>\n",
              "      <td>0.333333</td>\n",
              "      <td>0.250</td>\n",
              "      <td>0.388889</td>\n",
              "      <td>0.000000</td>\n",
              "      <td>0.470588</td>\n",
              "      <td>0</td>\n",
              "      <td>1</td>\n",
              "      <td>0</td>\n",
              "      <td>0</td>\n",
              "      <td>1</td>\n",
              "      <td>0</td>\n",
              "      <td>0</td>\n",
              "      <td>0</td>\n",
              "      <td>0</td>\n",
              "      <td>0</td>\n",
              "      <td>1</td>\n",
              "      <td>0</td>\n",
              "      <td>0</td>\n",
              "      <td>0</td>\n",
              "      <td>0</td>\n",
              "      <td>0</td>\n",
              "      <td>1</td>\n",
              "      <td>0</td>\n",
              "      <td>0</td>\n",
              "      <td>0</td>\n",
              "      <td>0</td>\n",
              "      <td>0</td>\n",
              "      <td>0</td>\n",
              "      <td>0</td>\n",
              "      <td>0</td>\n",
              "      <td>0</td>\n",
              "      <td>0</td>\n",
              "      <td>0</td>\n",
              "      <td>0</td>\n",
              "      <td>0</td>\n",
              "      <td>1</td>\n",
              "      <td>0</td>\n",
              "      <td>0</td>\n",
              "      <td>0</td>\n",
              "      <td>0</td>\n",
              "      <td>0</td>\n",
              "      <td>0</td>\n",
              "      <td>0</td>\n",
              "      <td>1</td>\n",
              "      <td>1</td>\n",
              "      <td>0</td>\n",
              "      <td>1</td>\n",
              "      <td>0</td>\n",
              "      <td>3</td>\n",
              "    </tr>\n",
              "    <tr>\n",
              "      <th>1</th>\n",
              "      <td>1</td>\n",
              "      <td>0.690476</td>\n",
              "      <td>0.464286</td>\n",
              "      <td>0.75</td>\n",
              "      <td>1.000000</td>\n",
              "      <td>0.171429</td>\n",
              "      <td>0.666667</td>\n",
              "      <td>0.25</td>\n",
              "      <td>0.0</td>\n",
              "      <td>0.222222</td>\n",
              "      <td>0.071429</td>\n",
              "      <td>1.000000</td>\n",
              "      <td>0.500</td>\n",
              "      <td>0.333333</td>\n",
              "      <td>0.666667</td>\n",
              "      <td>0.175</td>\n",
              "      <td>0.388889</td>\n",
              "      <td>0.066667</td>\n",
              "      <td>0.411765</td>\n",
              "      <td>0</td>\n",
              "      <td>1</td>\n",
              "      <td>0</td>\n",
              "      <td>0</td>\n",
              "      <td>1</td>\n",
              "      <td>0</td>\n",
              "      <td>0</td>\n",
              "      <td>0</td>\n",
              "      <td>0</td>\n",
              "      <td>0</td>\n",
              "      <td>1</td>\n",
              "      <td>0</td>\n",
              "      <td>0</td>\n",
              "      <td>0</td>\n",
              "      <td>0</td>\n",
              "      <td>0</td>\n",
              "      <td>1</td>\n",
              "      <td>0</td>\n",
              "      <td>0</td>\n",
              "      <td>0</td>\n",
              "      <td>0</td>\n",
              "      <td>0</td>\n",
              "      <td>0</td>\n",
              "      <td>0</td>\n",
              "      <td>0</td>\n",
              "      <td>0</td>\n",
              "      <td>0</td>\n",
              "      <td>0</td>\n",
              "      <td>0</td>\n",
              "      <td>0</td>\n",
              "      <td>1</td>\n",
              "      <td>0</td>\n",
              "      <td>0</td>\n",
              "      <td>0</td>\n",
              "      <td>0</td>\n",
              "      <td>0</td>\n",
              "      <td>0</td>\n",
              "      <td>0</td>\n",
              "      <td>1</td>\n",
              "      <td>1</td>\n",
              "      <td>0</td>\n",
              "      <td>1</td>\n",
              "      <td>0</td>\n",
              "      <td>3</td>\n",
              "    </tr>\n",
              "    <tr>\n",
              "      <th>2</th>\n",
              "      <td>2</td>\n",
              "      <td>0.523810</td>\n",
              "      <td>0.142857</td>\n",
              "      <td>0.75</td>\n",
              "      <td>1.000000</td>\n",
              "      <td>0.257143</td>\n",
              "      <td>0.333333</td>\n",
              "      <td>0.50</td>\n",
              "      <td>0.0</td>\n",
              "      <td>0.555556</td>\n",
              "      <td>0.714286</td>\n",
              "      <td>0.666667</td>\n",
              "      <td>0.500</td>\n",
              "      <td>0.333333</td>\n",
              "      <td>0.666667</td>\n",
              "      <td>0.450</td>\n",
              "      <td>0.722222</td>\n",
              "      <td>0.066667</td>\n",
              "      <td>0.705882</td>\n",
              "      <td>0</td>\n",
              "      <td>1</td>\n",
              "      <td>0</td>\n",
              "      <td>1</td>\n",
              "      <td>0</td>\n",
              "      <td>0</td>\n",
              "      <td>0</td>\n",
              "      <td>0</td>\n",
              "      <td>0</td>\n",
              "      <td>1</td>\n",
              "      <td>0</td>\n",
              "      <td>0</td>\n",
              "      <td>0</td>\n",
              "      <td>0</td>\n",
              "      <td>0</td>\n",
              "      <td>0</td>\n",
              "      <td>1</td>\n",
              "      <td>0</td>\n",
              "      <td>0</td>\n",
              "      <td>0</td>\n",
              "      <td>0</td>\n",
              "      <td>0</td>\n",
              "      <td>0</td>\n",
              "      <td>0</td>\n",
              "      <td>0</td>\n",
              "      <td>0</td>\n",
              "      <td>0</td>\n",
              "      <td>0</td>\n",
              "      <td>0</td>\n",
              "      <td>0</td>\n",
              "      <td>1</td>\n",
              "      <td>0</td>\n",
              "      <td>0</td>\n",
              "      <td>0</td>\n",
              "      <td>0</td>\n",
              "      <td>0</td>\n",
              "      <td>0</td>\n",
              "      <td>1</td>\n",
              "      <td>0</td>\n",
              "      <td>0</td>\n",
              "      <td>1</td>\n",
              "      <td>1</td>\n",
              "      <td>0</td>\n",
              "      <td>4</td>\n",
              "    </tr>\n",
              "    <tr>\n",
              "      <th>3</th>\n",
              "      <td>3</td>\n",
              "      <td>0.547619</td>\n",
              "      <td>0.321429</td>\n",
              "      <td>0.75</td>\n",
              "      <td>0.333333</td>\n",
              "      <td>0.614286</td>\n",
              "      <td>0.333333</td>\n",
              "      <td>1.00</td>\n",
              "      <td>1.0</td>\n",
              "      <td>0.333333</td>\n",
              "      <td>0.285714</td>\n",
              "      <td>0.333333</td>\n",
              "      <td>0.575</td>\n",
              "      <td>0.333333</td>\n",
              "      <td>0.333333</td>\n",
              "      <td>0.525</td>\n",
              "      <td>0.333333</td>\n",
              "      <td>0.800000</td>\n",
              "      <td>0.352941</td>\n",
              "      <td>0</td>\n",
              "      <td>1</td>\n",
              "      <td>1</td>\n",
              "      <td>0</td>\n",
              "      <td>0</td>\n",
              "      <td>0</td>\n",
              "      <td>0</td>\n",
              "      <td>0</td>\n",
              "      <td>1</td>\n",
              "      <td>0</td>\n",
              "      <td>0</td>\n",
              "      <td>0</td>\n",
              "      <td>0</td>\n",
              "      <td>0</td>\n",
              "      <td>1</td>\n",
              "      <td>0</td>\n",
              "      <td>0</td>\n",
              "      <td>0</td>\n",
              "      <td>0</td>\n",
              "      <td>0</td>\n",
              "      <td>0</td>\n",
              "      <td>0</td>\n",
              "      <td>0</td>\n",
              "      <td>0</td>\n",
              "      <td>0</td>\n",
              "      <td>1</td>\n",
              "      <td>0</td>\n",
              "      <td>0</td>\n",
              "      <td>0</td>\n",
              "      <td>0</td>\n",
              "      <td>0</td>\n",
              "      <td>0</td>\n",
              "      <td>0</td>\n",
              "      <td>0</td>\n",
              "      <td>0</td>\n",
              "      <td>0</td>\n",
              "      <td>0</td>\n",
              "      <td>0</td>\n",
              "      <td>1</td>\n",
              "      <td>1</td>\n",
              "      <td>0</td>\n",
              "      <td>1</td>\n",
              "      <td>0</td>\n",
              "      <td>3</td>\n",
              "    </tr>\n",
              "    <tr>\n",
              "      <th>4</th>\n",
              "      <td>4</td>\n",
              "      <td>1.000000</td>\n",
              "      <td>0.535714</td>\n",
              "      <td>0.75</td>\n",
              "      <td>0.000000</td>\n",
              "      <td>0.771429</td>\n",
              "      <td>0.666667</td>\n",
              "      <td>0.25</td>\n",
              "      <td>0.0</td>\n",
              "      <td>0.888889</td>\n",
              "      <td>0.214286</td>\n",
              "      <td>1.000000</td>\n",
              "      <td>0.250</td>\n",
              "      <td>0.166667</td>\n",
              "      <td>0.666667</td>\n",
              "      <td>0.050</td>\n",
              "      <td>0.111111</td>\n",
              "      <td>0.133333</td>\n",
              "      <td>0.117647</td>\n",
              "      <td>0</td>\n",
              "      <td>1</td>\n",
              "      <td>0</td>\n",
              "      <td>0</td>\n",
              "      <td>1</td>\n",
              "      <td>0</td>\n",
              "      <td>0</td>\n",
              "      <td>0</td>\n",
              "      <td>0</td>\n",
              "      <td>0</td>\n",
              "      <td>1</td>\n",
              "      <td>0</td>\n",
              "      <td>0</td>\n",
              "      <td>0</td>\n",
              "      <td>0</td>\n",
              "      <td>0</td>\n",
              "      <td>1</td>\n",
              "      <td>0</td>\n",
              "      <td>0</td>\n",
              "      <td>0</td>\n",
              "      <td>0</td>\n",
              "      <td>0</td>\n",
              "      <td>0</td>\n",
              "      <td>0</td>\n",
              "      <td>0</td>\n",
              "      <td>0</td>\n",
              "      <td>0</td>\n",
              "      <td>0</td>\n",
              "      <td>0</td>\n",
              "      <td>0</td>\n",
              "      <td>1</td>\n",
              "      <td>0</td>\n",
              "      <td>0</td>\n",
              "      <td>0</td>\n",
              "      <td>0</td>\n",
              "      <td>0</td>\n",
              "      <td>0</td>\n",
              "      <td>0</td>\n",
              "      <td>1</td>\n",
              "      <td>1</td>\n",
              "      <td>0</td>\n",
              "      <td>1</td>\n",
              "      <td>0</td>\n",
              "      <td>3</td>\n",
              "    </tr>\n",
              "  </tbody>\n",
              "</table>\n",
              "</div>"
            ],
            "text/plain": [
              "   Unnamed: 0       Age  ...  Attrition_Yes  PerformanceRating\n",
              "0           0  0.333333  ...              0                  3\n",
              "1           1  0.690476  ...              0                  3\n",
              "2           2  0.523810  ...              0                  4\n",
              "3           3  0.547619  ...              0                  3\n",
              "4           4  1.000000  ...              0                  3\n",
              "\n",
              "[5 rows x 63 columns]"
            ]
          },
          "metadata": {},
          "execution_count": 2
        }
      ]
    },
    {
      "cell_type": "code",
      "metadata": {
        "colab": {
          "base_uri": "https://localhost:8080/",
          "height": 243
        },
        "id": "vmJfxuW3HVtj",
        "outputId": "93cd4e8e-aa5c-43b1-ba3e-e7cc4f013a82"
      },
      "source": [
        "data=data.drop('Unnamed: 0',axis=1)\n",
        "data.head()"
      ],
      "execution_count": null,
      "outputs": [
        {
          "output_type": "execute_result",
          "data": {
            "text/html": [
              "<div>\n",
              "<style scoped>\n",
              "    .dataframe tbody tr th:only-of-type {\n",
              "        vertical-align: middle;\n",
              "    }\n",
              "\n",
              "    .dataframe tbody tr th {\n",
              "        vertical-align: top;\n",
              "    }\n",
              "\n",
              "    .dataframe thead th {\n",
              "        text-align: right;\n",
              "    }\n",
              "</style>\n",
              "<table border=\"1\" class=\"dataframe\">\n",
              "  <thead>\n",
              "    <tr style=\"text-align: right;\">\n",
              "      <th></th>\n",
              "      <th>Age</th>\n",
              "      <th>DistanceFromHome</th>\n",
              "      <th>EmpEducationLevel</th>\n",
              "      <th>EmpEnvironmentSatisfaction</th>\n",
              "      <th>EmpHourlyRate</th>\n",
              "      <th>EmpJobInvolvement</th>\n",
              "      <th>EmpJobLevel</th>\n",
              "      <th>EmpJobSatisfaction</th>\n",
              "      <th>NumCompaniesWorked</th>\n",
              "      <th>EmpLastSalaryHikePercent</th>\n",
              "      <th>EmpRelationshipSatisfaction</th>\n",
              "      <th>TotalWorkExperienceInYears</th>\n",
              "      <th>TrainingTimesLastYear</th>\n",
              "      <th>EmpWorkLifeBalance</th>\n",
              "      <th>ExperienceYearsAtThisCompany</th>\n",
              "      <th>ExperienceYearsInCurrentRole</th>\n",
              "      <th>YearsSinceLastPromotion</th>\n",
              "      <th>YearsWithCurrManager</th>\n",
              "      <th>Gender_Female</th>\n",
              "      <th>Gender_Male</th>\n",
              "      <th>EducationBackground_Human Resources</th>\n",
              "      <th>EducationBackground_Life Sciences</th>\n",
              "      <th>EducationBackground_Marketing</th>\n",
              "      <th>EducationBackground_Medical</th>\n",
              "      <th>EducationBackground_Other</th>\n",
              "      <th>EducationBackground_Technical Degree</th>\n",
              "      <th>MaritalStatus_Divorced</th>\n",
              "      <th>MaritalStatus_Married</th>\n",
              "      <th>MaritalStatus_Single</th>\n",
              "      <th>EmpDepartment_Data Science</th>\n",
              "      <th>EmpDepartment_Development</th>\n",
              "      <th>EmpDepartment_Finance</th>\n",
              "      <th>EmpDepartment_Human Resources</th>\n",
              "      <th>EmpDepartment_Research &amp; Development</th>\n",
              "      <th>EmpDepartment_Sales</th>\n",
              "      <th>EmpJobRole_Business Analyst</th>\n",
              "      <th>EmpJobRole_Data Scientist</th>\n",
              "      <th>EmpJobRole_Delivery Manager</th>\n",
              "      <th>EmpJobRole_Developer</th>\n",
              "      <th>EmpJobRole_Finance Manager</th>\n",
              "      <th>EmpJobRole_Healthcare Representative</th>\n",
              "      <th>EmpJobRole_Human Resources</th>\n",
              "      <th>EmpJobRole_Laboratory Technician</th>\n",
              "      <th>EmpJobRole_Manager</th>\n",
              "      <th>EmpJobRole_Manager R&amp;D</th>\n",
              "      <th>EmpJobRole_Manufacturing Director</th>\n",
              "      <th>EmpJobRole_Research Director</th>\n",
              "      <th>EmpJobRole_Research Scientist</th>\n",
              "      <th>EmpJobRole_Sales Executive</th>\n",
              "      <th>EmpJobRole_Sales Representative</th>\n",
              "      <th>EmpJobRole_Senior Developer</th>\n",
              "      <th>EmpJobRole_Senior Manager R&amp;D</th>\n",
              "      <th>EmpJobRole_Technical Architect</th>\n",
              "      <th>EmpJobRole_Technical Lead</th>\n",
              "      <th>BusinessTravelFrequency_Non-Travel</th>\n",
              "      <th>BusinessTravelFrequency_Travel_Frequently</th>\n",
              "      <th>BusinessTravelFrequency_Travel_Rarely</th>\n",
              "      <th>OverTime_No</th>\n",
              "      <th>OverTime_Yes</th>\n",
              "      <th>Attrition_No</th>\n",
              "      <th>Attrition_Yes</th>\n",
              "      <th>PerformanceRating</th>\n",
              "    </tr>\n",
              "  </thead>\n",
              "  <tbody>\n",
              "    <tr>\n",
              "      <th>0</th>\n",
              "      <td>0.333333</td>\n",
              "      <td>0.321429</td>\n",
              "      <td>0.50</td>\n",
              "      <td>1.000000</td>\n",
              "      <td>0.357143</td>\n",
              "      <td>0.666667</td>\n",
              "      <td>0.25</td>\n",
              "      <td>1.0</td>\n",
              "      <td>0.111111</td>\n",
              "      <td>0.071429</td>\n",
              "      <td>1.000000</td>\n",
              "      <td>0.250</td>\n",
              "      <td>0.333333</td>\n",
              "      <td>0.333333</td>\n",
              "      <td>0.250</td>\n",
              "      <td>0.388889</td>\n",
              "      <td>0.000000</td>\n",
              "      <td>0.470588</td>\n",
              "      <td>0</td>\n",
              "      <td>1</td>\n",
              "      <td>0</td>\n",
              "      <td>0</td>\n",
              "      <td>1</td>\n",
              "      <td>0</td>\n",
              "      <td>0</td>\n",
              "      <td>0</td>\n",
              "      <td>0</td>\n",
              "      <td>0</td>\n",
              "      <td>1</td>\n",
              "      <td>0</td>\n",
              "      <td>0</td>\n",
              "      <td>0</td>\n",
              "      <td>0</td>\n",
              "      <td>0</td>\n",
              "      <td>1</td>\n",
              "      <td>0</td>\n",
              "      <td>0</td>\n",
              "      <td>0</td>\n",
              "      <td>0</td>\n",
              "      <td>0</td>\n",
              "      <td>0</td>\n",
              "      <td>0</td>\n",
              "      <td>0</td>\n",
              "      <td>0</td>\n",
              "      <td>0</td>\n",
              "      <td>0</td>\n",
              "      <td>0</td>\n",
              "      <td>0</td>\n",
              "      <td>1</td>\n",
              "      <td>0</td>\n",
              "      <td>0</td>\n",
              "      <td>0</td>\n",
              "      <td>0</td>\n",
              "      <td>0</td>\n",
              "      <td>0</td>\n",
              "      <td>0</td>\n",
              "      <td>1</td>\n",
              "      <td>1</td>\n",
              "      <td>0</td>\n",
              "      <td>1</td>\n",
              "      <td>0</td>\n",
              "      <td>3</td>\n",
              "    </tr>\n",
              "    <tr>\n",
              "      <th>1</th>\n",
              "      <td>0.690476</td>\n",
              "      <td>0.464286</td>\n",
              "      <td>0.75</td>\n",
              "      <td>1.000000</td>\n",
              "      <td>0.171429</td>\n",
              "      <td>0.666667</td>\n",
              "      <td>0.25</td>\n",
              "      <td>0.0</td>\n",
              "      <td>0.222222</td>\n",
              "      <td>0.071429</td>\n",
              "      <td>1.000000</td>\n",
              "      <td>0.500</td>\n",
              "      <td>0.333333</td>\n",
              "      <td>0.666667</td>\n",
              "      <td>0.175</td>\n",
              "      <td>0.388889</td>\n",
              "      <td>0.066667</td>\n",
              "      <td>0.411765</td>\n",
              "      <td>0</td>\n",
              "      <td>1</td>\n",
              "      <td>0</td>\n",
              "      <td>0</td>\n",
              "      <td>1</td>\n",
              "      <td>0</td>\n",
              "      <td>0</td>\n",
              "      <td>0</td>\n",
              "      <td>0</td>\n",
              "      <td>0</td>\n",
              "      <td>1</td>\n",
              "      <td>0</td>\n",
              "      <td>0</td>\n",
              "      <td>0</td>\n",
              "      <td>0</td>\n",
              "      <td>0</td>\n",
              "      <td>1</td>\n",
              "      <td>0</td>\n",
              "      <td>0</td>\n",
              "      <td>0</td>\n",
              "      <td>0</td>\n",
              "      <td>0</td>\n",
              "      <td>0</td>\n",
              "      <td>0</td>\n",
              "      <td>0</td>\n",
              "      <td>0</td>\n",
              "      <td>0</td>\n",
              "      <td>0</td>\n",
              "      <td>0</td>\n",
              "      <td>0</td>\n",
              "      <td>1</td>\n",
              "      <td>0</td>\n",
              "      <td>0</td>\n",
              "      <td>0</td>\n",
              "      <td>0</td>\n",
              "      <td>0</td>\n",
              "      <td>0</td>\n",
              "      <td>0</td>\n",
              "      <td>1</td>\n",
              "      <td>1</td>\n",
              "      <td>0</td>\n",
              "      <td>1</td>\n",
              "      <td>0</td>\n",
              "      <td>3</td>\n",
              "    </tr>\n",
              "    <tr>\n",
              "      <th>2</th>\n",
              "      <td>0.523810</td>\n",
              "      <td>0.142857</td>\n",
              "      <td>0.75</td>\n",
              "      <td>1.000000</td>\n",
              "      <td>0.257143</td>\n",
              "      <td>0.333333</td>\n",
              "      <td>0.50</td>\n",
              "      <td>0.0</td>\n",
              "      <td>0.555556</td>\n",
              "      <td>0.714286</td>\n",
              "      <td>0.666667</td>\n",
              "      <td>0.500</td>\n",
              "      <td>0.333333</td>\n",
              "      <td>0.666667</td>\n",
              "      <td>0.450</td>\n",
              "      <td>0.722222</td>\n",
              "      <td>0.066667</td>\n",
              "      <td>0.705882</td>\n",
              "      <td>0</td>\n",
              "      <td>1</td>\n",
              "      <td>0</td>\n",
              "      <td>1</td>\n",
              "      <td>0</td>\n",
              "      <td>0</td>\n",
              "      <td>0</td>\n",
              "      <td>0</td>\n",
              "      <td>0</td>\n",
              "      <td>1</td>\n",
              "      <td>0</td>\n",
              "      <td>0</td>\n",
              "      <td>0</td>\n",
              "      <td>0</td>\n",
              "      <td>0</td>\n",
              "      <td>0</td>\n",
              "      <td>1</td>\n",
              "      <td>0</td>\n",
              "      <td>0</td>\n",
              "      <td>0</td>\n",
              "      <td>0</td>\n",
              "      <td>0</td>\n",
              "      <td>0</td>\n",
              "      <td>0</td>\n",
              "      <td>0</td>\n",
              "      <td>0</td>\n",
              "      <td>0</td>\n",
              "      <td>0</td>\n",
              "      <td>0</td>\n",
              "      <td>0</td>\n",
              "      <td>1</td>\n",
              "      <td>0</td>\n",
              "      <td>0</td>\n",
              "      <td>0</td>\n",
              "      <td>0</td>\n",
              "      <td>0</td>\n",
              "      <td>0</td>\n",
              "      <td>1</td>\n",
              "      <td>0</td>\n",
              "      <td>0</td>\n",
              "      <td>1</td>\n",
              "      <td>1</td>\n",
              "      <td>0</td>\n",
              "      <td>4</td>\n",
              "    </tr>\n",
              "    <tr>\n",
              "      <th>3</th>\n",
              "      <td>0.547619</td>\n",
              "      <td>0.321429</td>\n",
              "      <td>0.75</td>\n",
              "      <td>0.333333</td>\n",
              "      <td>0.614286</td>\n",
              "      <td>0.333333</td>\n",
              "      <td>1.00</td>\n",
              "      <td>1.0</td>\n",
              "      <td>0.333333</td>\n",
              "      <td>0.285714</td>\n",
              "      <td>0.333333</td>\n",
              "      <td>0.575</td>\n",
              "      <td>0.333333</td>\n",
              "      <td>0.333333</td>\n",
              "      <td>0.525</td>\n",
              "      <td>0.333333</td>\n",
              "      <td>0.800000</td>\n",
              "      <td>0.352941</td>\n",
              "      <td>0</td>\n",
              "      <td>1</td>\n",
              "      <td>1</td>\n",
              "      <td>0</td>\n",
              "      <td>0</td>\n",
              "      <td>0</td>\n",
              "      <td>0</td>\n",
              "      <td>0</td>\n",
              "      <td>1</td>\n",
              "      <td>0</td>\n",
              "      <td>0</td>\n",
              "      <td>0</td>\n",
              "      <td>0</td>\n",
              "      <td>0</td>\n",
              "      <td>1</td>\n",
              "      <td>0</td>\n",
              "      <td>0</td>\n",
              "      <td>0</td>\n",
              "      <td>0</td>\n",
              "      <td>0</td>\n",
              "      <td>0</td>\n",
              "      <td>0</td>\n",
              "      <td>0</td>\n",
              "      <td>0</td>\n",
              "      <td>0</td>\n",
              "      <td>1</td>\n",
              "      <td>0</td>\n",
              "      <td>0</td>\n",
              "      <td>0</td>\n",
              "      <td>0</td>\n",
              "      <td>0</td>\n",
              "      <td>0</td>\n",
              "      <td>0</td>\n",
              "      <td>0</td>\n",
              "      <td>0</td>\n",
              "      <td>0</td>\n",
              "      <td>0</td>\n",
              "      <td>0</td>\n",
              "      <td>1</td>\n",
              "      <td>1</td>\n",
              "      <td>0</td>\n",
              "      <td>1</td>\n",
              "      <td>0</td>\n",
              "      <td>3</td>\n",
              "    </tr>\n",
              "    <tr>\n",
              "      <th>4</th>\n",
              "      <td>1.000000</td>\n",
              "      <td>0.535714</td>\n",
              "      <td>0.75</td>\n",
              "      <td>0.000000</td>\n",
              "      <td>0.771429</td>\n",
              "      <td>0.666667</td>\n",
              "      <td>0.25</td>\n",
              "      <td>0.0</td>\n",
              "      <td>0.888889</td>\n",
              "      <td>0.214286</td>\n",
              "      <td>1.000000</td>\n",
              "      <td>0.250</td>\n",
              "      <td>0.166667</td>\n",
              "      <td>0.666667</td>\n",
              "      <td>0.050</td>\n",
              "      <td>0.111111</td>\n",
              "      <td>0.133333</td>\n",
              "      <td>0.117647</td>\n",
              "      <td>0</td>\n",
              "      <td>1</td>\n",
              "      <td>0</td>\n",
              "      <td>0</td>\n",
              "      <td>1</td>\n",
              "      <td>0</td>\n",
              "      <td>0</td>\n",
              "      <td>0</td>\n",
              "      <td>0</td>\n",
              "      <td>0</td>\n",
              "      <td>1</td>\n",
              "      <td>0</td>\n",
              "      <td>0</td>\n",
              "      <td>0</td>\n",
              "      <td>0</td>\n",
              "      <td>0</td>\n",
              "      <td>1</td>\n",
              "      <td>0</td>\n",
              "      <td>0</td>\n",
              "      <td>0</td>\n",
              "      <td>0</td>\n",
              "      <td>0</td>\n",
              "      <td>0</td>\n",
              "      <td>0</td>\n",
              "      <td>0</td>\n",
              "      <td>0</td>\n",
              "      <td>0</td>\n",
              "      <td>0</td>\n",
              "      <td>0</td>\n",
              "      <td>0</td>\n",
              "      <td>1</td>\n",
              "      <td>0</td>\n",
              "      <td>0</td>\n",
              "      <td>0</td>\n",
              "      <td>0</td>\n",
              "      <td>0</td>\n",
              "      <td>0</td>\n",
              "      <td>0</td>\n",
              "      <td>1</td>\n",
              "      <td>1</td>\n",
              "      <td>0</td>\n",
              "      <td>1</td>\n",
              "      <td>0</td>\n",
              "      <td>3</td>\n",
              "    </tr>\n",
              "  </tbody>\n",
              "</table>\n",
              "</div>"
            ],
            "text/plain": [
              "        Age  DistanceFromHome  ...  Attrition_Yes  PerformanceRating\n",
              "0  0.333333          0.321429  ...              0                  3\n",
              "1  0.690476          0.464286  ...              0                  3\n",
              "2  0.523810          0.142857  ...              0                  4\n",
              "3  0.547619          0.321429  ...              0                  3\n",
              "4  1.000000          0.535714  ...              0                  3\n",
              "\n",
              "[5 rows x 62 columns]"
            ]
          },
          "metadata": {},
          "execution_count": 3
        }
      ]
    },
    {
      "cell_type": "code",
      "metadata": {
        "id": "lMWlYWsiH7sz"
      },
      "source": [
        "# split data into X and Y\n",
        "X=data.drop('PerformanceRating',axis=1)\n",
        "Y=data[['PerformanceRating']]"
      ],
      "execution_count": null,
      "outputs": []
    },
    {
      "cell_type": "code",
      "metadata": {
        "colab": {
          "base_uri": "https://localhost:8080/"
        },
        "id": "4u_FjVEYIwR1",
        "outputId": "19067fdb-9b45-4fa2-ec34-75ff0cba03cb"
      },
      "source": [
        "# Split data for training and testing\n",
        "#import model to test the model\n",
        "from sklearn.model_selection import train_test_split\n",
        "x_train, x_test, y_train, y_test = train_test_split(X, Y, test_size=0.33, random_state=5)\n",
        "x_train.shape, x_test.shape, y_test.shape,y_train.shape"
      ],
      "execution_count": null,
      "outputs": [
        {
          "output_type": "execute_result",
          "data": {
            "text/plain": [
              "((804, 61), (396, 61), (396, 1), (804, 1))"
            ]
          },
          "metadata": {},
          "execution_count": 5
        }
      ]
    },
    {
      "cell_type": "code",
      "metadata": {
        "colab": {
          "base_uri": "https://localhost:8080/",
          "height": 297
        },
        "id": "AQNyfhw9JCYh",
        "outputId": "3e50f2f2-b913-4cde-bd74-d704e7976583"
      },
      "source": [
        "# check whether data is balanced or not\n",
        "sns.countplot(data['PerformanceRating'])"
      ],
      "execution_count": null,
      "outputs": [
        {
          "output_type": "execute_result",
          "data": {
            "text/plain": [
              "<matplotlib.axes._subplots.AxesSubplot at 0x7fc372127710>"
            ]
          },
          "metadata": {},
          "execution_count": 6
        },
        {
          "output_type": "display_data",
          "data": {
            "image/png": "[encoded data removed]",
            "text/plain": [
              "<Figure size 432x288 with 1 Axes>"
            ]
          },
          "metadata": {
            "needs_background": "light"
          }
        }
      ]
    },
    {
      "cell_type": "markdown",
      "metadata": {
        "id": "bC-OKBBoJTiJ"
      },
      "source": [
        "# Since data is imbalanced we smote to balance data."
      ]
    },
    {
      "cell_type": "code",
      "metadata": {
        "id": "EoEb-WkUJHMg"
      },
      "source": [
        "from imblearn.over_sampling import SMOTE\n",
        "over_smote = SMOTE()\n",
        "X_train,Y_train = over_smote.fit_sample(x_train,y_train)"
      ],
      "execution_count": null,
      "outputs": []
    },
    {
      "cell_type": "code",
      "metadata": {
        "colab": {
          "base_uri": "https://localhost:8080/"
        },
        "id": "1N0q3dmlLSAb",
        "outputId": "f8a71016-a48e-4a6f-b522-fa5759f2e9d0"
      },
      "source": [
        "print(x_train.shape)\n",
        "print(X_train.shape)"
      ],
      "execution_count": null,
      "outputs": [
        {
          "output_type": "stream",
          "name": "stdout",
          "text": [
            "(804, 61)\n",
            "(1737, 61)\n"
          ]
        }
      ]
    },
    {
      "cell_type": "code",
      "metadata": {
        "colab": {
          "base_uri": "https://localhost:8080/"
        },
        "id": "YD_KKry3Lb4i",
        "outputId": "b5f61801-6dfb-4a97-f5a2-54cf2f8cbf65"
      },
      "source": [
        "print(y_train.shape)\n",
        "print(Y_train.shape)"
      ],
      "execution_count": null,
      "outputs": [
        {
          "output_type": "stream",
          "name": "stdout",
          "text": [
            "(804, 1)\n",
            "(1737,)\n"
          ]
        }
      ]
    },
    {
      "cell_type": "code",
      "metadata": {
        "id": "87sAeHffLu4A"
      },
      "source": [
        "Y_train=pd.DataFrame(Y_train, columns = y_train.columns)\n",
        "X_train=pd.DataFrame(X_train, columns = x_train.columns)"
      ],
      "execution_count": null,
      "outputs": []
    },
    {
      "cell_type": "code",
      "metadata": {
        "colab": {
          "base_uri": "https://localhost:8080/"
        },
        "id": "zOxuta6CLxxJ",
        "outputId": "f989d711-21d3-4b21-992f-d37675da7493"
      },
      "source": [
        "print(y_train.value_counts())\n",
        "print(Y_train.value_counts())"
      ],
      "execution_count": null,
      "outputs": [
        {
          "output_type": "stream",
          "name": "stdout",
          "text": [
            "PerformanceRating\n",
            "3                    579\n",
            "2                    131\n",
            "4                     94\n",
            "dtype: int64\n",
            "PerformanceRating\n",
            "4                    579\n",
            "3                    579\n",
            "2                    579\n",
            "dtype: int64\n"
          ]
        }
      ]
    },
    {
      "cell_type": "markdown",
      "metadata": {
        "id": "GcFjIquaMr_A"
      },
      "source": [
        "# Selecting classification Models"
      ]
    },
    {
      "cell_type": "code",
      "metadata": {
        "colab": {
          "base_uri": "https://localhost:8080/"
        },
        "id": "90Em2dZyL8cM",
        "outputId": "0548eb11-36aa-49ae-d45b-451fa0fb7eb1"
      },
      "source": [
        "#Logistic regression\n",
        "from sklearn.linear_model import LogisticRegression\n",
        "model_log=LogisticRegression()\n",
        "model_log.fit(X_train,Y_train)\n",
        "log_predict = model_log.predict(x_test)\n",
        "from sklearn.metrics import accuracy_score ,recall_score, precision_score,f1_score,confusion_matrix,classification_report\n",
        "print('accuracy score :\\n',accuracy_score(y_true=y_test,y_pred=log_predict))\n",
        "print(classification_report(y_test,log_predict))\n",
        "confusion_matrix(y_test,log_predict)\n"
      ],
      "execution_count": null,
      "outputs": [
        {
          "output_type": "stream",
          "name": "stdout",
          "text": [
            "accuracy score :\n",
            " 0.7702020202020202\n",
            "              precision    recall  f1-score   support\n",
            "\n",
            "           2       0.54      0.81      0.65        63\n",
            "           3       0.93      0.76      0.84       295\n",
            "           4       0.48      0.79      0.60        38\n",
            "\n",
            "    accuracy                           0.77       396\n",
            "   macro avg       0.65      0.79      0.70       396\n",
            "weighted avg       0.83      0.77      0.78       396\n",
            "\n"
          ]
        },
        {
          "output_type": "execute_result",
          "data": {
            "text/plain": [
              "array([[ 51,   9,   3],\n",
              "       [ 42, 224,  29],\n",
              "       [  1,   7,  30]])"
            ]
          },
          "metadata": {},
          "execution_count": 12
        }
      ]
    },
    {
      "cell_type": "code",
      "metadata": {
        "colab": {
          "base_uri": "https://localhost:8080/"
        },
        "id": "OOBPVNJ4M4Sp",
        "outputId": "cbd8340b-38d1-4ee7-a024-333e9bc28dbe"
      },
      "source": [
        "from sklearn.ensemble import  GradientBoostingClassifier\n",
        "model_gb=GradientBoostingClassifier()\n",
        "model_gb.fit(X_train,Y_train)\n",
        "gb_predict=model_gb.predict(x_test)\n",
        "print('accuracy score :\\n',accuracy_score(y_true=y_test,y_pred=gb_predict))\n",
        "print(classification_report(y_test,gb_predict))\n",
        "confusion_matrix(y_test,gb_predict)"
      ],
      "execution_count": null,
      "outputs": [
        {
          "output_type": "stream",
          "name": "stdout",
          "text": [
            "accuracy score :\n",
            " 0.9318181818181818\n",
            "              precision    recall  f1-score   support\n",
            "\n",
            "           2       0.83      0.86      0.84        63\n",
            "           3       0.96      0.96      0.96       295\n",
            "           4       0.92      0.87      0.89        38\n",
            "\n",
            "    accuracy                           0.93       396\n",
            "   macro avg       0.90      0.89      0.90       396\n",
            "weighted avg       0.93      0.93      0.93       396\n",
            "\n"
          ]
        },
        {
          "output_type": "execute_result",
          "data": {
            "text/plain": [
              "array([[ 54,   9,   0],\n",
              "       [ 10, 282,   3],\n",
              "       [  1,   4,  33]])"
            ]
          },
          "metadata": {},
          "execution_count": 13
        }
      ]
    },
    {
      "cell_type": "code",
      "metadata": {
        "colab": {
          "base_uri": "https://localhost:8080/"
        },
        "id": "SOZ7qV9vNJEy",
        "outputId": "460c31d7-9614-4e2d-9d4f-5149a0526c59"
      },
      "source": [
        "from sklearn.ensemble import  AdaBoostClassifier\n",
        "model_ab=AdaBoostClassifier()\n",
        "model_ab.fit(X_train,Y_train)\n",
        "ab_predict=model_ab.predict(x_test)\n",
        "print('accuracy score :\\n',accuracy_score(y_true=y_test,y_pred=ab_predict))\n",
        "print(classification_report(y_test,ab_predict))\n",
        "confusion_matrix(y_test,ab_predict)"
      ],
      "execution_count": null,
      "outputs": [
        {
          "output_type": "stream",
          "name": "stdout",
          "text": [
            "accuracy score :\n",
            " 0.7222222222222222\n",
            "              precision    recall  f1-score   support\n",
            "\n",
            "           2       0.75      0.86      0.80        63\n",
            "           3       0.91      0.69      0.79       295\n",
            "           4       0.27      0.71      0.39        38\n",
            "\n",
            "    accuracy                           0.72       396\n",
            "   macro avg       0.64      0.75      0.66       396\n",
            "weighted avg       0.82      0.72      0.75       396\n",
            "\n"
          ]
        },
        {
          "output_type": "execute_result",
          "data": {
            "text/plain": [
              "array([[ 54,   9,   0],\n",
              "       [ 18, 205,  72],\n",
              "       [  0,  11,  27]])"
            ]
          },
          "metadata": {},
          "execution_count": 14
        }
      ]
    },
    {
      "cell_type": "code",
      "metadata": {
        "colab": {
          "base_uri": "https://localhost:8080/"
        },
        "id": "EySt3u6oNZuL",
        "outputId": "fc5da6d4-5f75-423a-c827-969d72a54405"
      },
      "source": [
        "from xgboost import XGBClassifier\n",
        "model_xgb=XGBClassifier()\n",
        "model_xgb.fit(X_train,Y_train)\n",
        "xgb_predict=model_xgb.predict(x_test)\n",
        "print('accuracy score :\\n',accuracy_score(y_true=y_test,y_pred=xgb_predict))\n",
        "print(classification_report(y_test,xgb_predict))\n",
        "confusion_matrix(y_test,xgb_predict)"
      ],
      "execution_count": null,
      "outputs": [
        {
          "output_type": "stream",
          "name": "stdout",
          "text": [
            "accuracy score :\n",
            " 0.9267676767676768\n",
            "              precision    recall  f1-score   support\n",
            "\n",
            "           2       0.84      0.86      0.85        63\n",
            "           3       0.95      0.96      0.95       295\n",
            "           4       0.89      0.82      0.85        38\n",
            "\n",
            "    accuracy                           0.93       396\n",
            "   macro avg       0.89      0.88      0.88       396\n",
            "weighted avg       0.93      0.93      0.93       396\n",
            "\n"
          ]
        },
        {
          "output_type": "execute_result",
          "data": {
            "text/plain": [
              "array([[ 54,   9,   0],\n",
              "       [  9, 282,   4],\n",
              "       [  1,   6,  31]])"
            ]
          },
          "metadata": {},
          "execution_count": 15
        }
      ]
    },
    {
      "cell_type": "code",
      "metadata": {
        "colab": {
          "base_uri": "https://localhost:8080/"
        },
        "id": "SVmSE2RgNeOm",
        "outputId": "9f2156f6-510c-44ec-dbeb-b95a4b7d852c"
      },
      "source": [
        "import lightgbm as lgb\n",
        "model_lgb=lgb.LGBMClassifier()\n",
        "model_lgb.fit(X_train,Y_train)\n",
        "lgb_predict=model_lgb.predict(x_test)\n",
        "print('accuracy score :\\n',accuracy_score(y_true=y_test,y_pred=lgb_predict))\n",
        "print(classification_report(y_test,lgb_predict))\n",
        "confusion_matrix(y_test,lgb_predict)"
      ],
      "execution_count": null,
      "outputs": [
        {
          "output_type": "stream",
          "name": "stdout",
          "text": [
            "accuracy score :\n",
            " 0.9242424242424242\n",
            "              precision    recall  f1-score   support\n",
            "\n",
            "           2       0.86      0.86      0.86        63\n",
            "           3       0.95      0.95      0.95       295\n",
            "           4       0.84      0.82      0.83        38\n",
            "\n",
            "    accuracy                           0.92       396\n",
            "   macro avg       0.88      0.88      0.88       396\n",
            "weighted avg       0.92      0.92      0.92       396\n",
            "\n"
          ]
        },
        {
          "output_type": "execute_result",
          "data": {
            "text/plain": [
              "array([[ 54,   9,   0],\n",
              "       [  8, 281,   6],\n",
              "       [  1,   6,  31]])"
            ]
          },
          "metadata": {},
          "execution_count": 16
        }
      ]
    },
    {
      "cell_type": "code",
      "metadata": {
        "colab": {
          "base_uri": "https://localhost:8080/"
        },
        "id": "uZc042F8NigR",
        "outputId": "4efa190b-b751-4184-ac1b-fd92ca90d4a7"
      },
      "source": [
        "from sklearn.ensemble import RandomForestClassifier\n",
        "model_RF=RandomForestClassifier()\n",
        "model_RF.fit(X_train,Y_train)\n",
        "RF_predict=model_RF.predict(x_test)\n",
        "print('accuracy score :\\n',accuracy_score(y_true=y_test,y_pred=RF_predict))\n",
        "print(classification_report(y_test,RF_predict))\n",
        "confusion_matrix(y_test,RF_predict)"
      ],
      "execution_count": null,
      "outputs": [
        {
          "output_type": "stream",
          "name": "stdout",
          "text": [
            "accuracy score :\n",
            " 0.9166666666666666\n",
            "              precision    recall  f1-score   support\n",
            "\n",
            "           2       0.89      0.86      0.87        63\n",
            "           3       0.93      0.96      0.95       295\n",
            "           4       0.83      0.66      0.74        38\n",
            "\n",
            "    accuracy                           0.92       396\n",
            "   macro avg       0.88      0.83      0.85       396\n",
            "weighted avg       0.91      0.92      0.91       396\n",
            "\n"
          ]
        },
        {
          "output_type": "execute_result",
          "data": {
            "text/plain": [
              "array([[ 54,   9,   0],\n",
              "       [  6, 284,   5],\n",
              "       [  1,  12,  25]])"
            ]
          },
          "metadata": {},
          "execution_count": 17
        }
      ]
    },
    {
      "cell_type": "code",
      "metadata": {
        "colab": {
          "base_uri": "https://localhost:8080/"
        },
        "id": "q_cZvaXCNnZn",
        "outputId": "98e3482d-5dd5-4632-960a-78e062db933b"
      },
      "source": [
        "from sklearn.tree import DecisionTreeClassifier\n",
        "model_DT= DecisionTreeClassifier()\n",
        "model_DT.fit(X_train,Y_train)\n",
        "DT_predict=model_DT.predict(x_test)\n",
        "print('accuracy score :\\n',accuracy_score(y_true=y_test,y_pred=DT_predict))\n",
        "print(classification_report(y_test,DT_predict))\n",
        "confusion_matrix(y_test,DT_predict)\n"
      ],
      "execution_count": null,
      "outputs": [
        {
          "output_type": "stream",
          "name": "stdout",
          "text": [
            "accuracy score :\n",
            " 0.8661616161616161\n",
            "              precision    recall  f1-score   support\n",
            "\n",
            "           2       0.74      0.67      0.70        63\n",
            "           3       0.92      0.92      0.92       295\n",
            "           4       0.70      0.82      0.76        38\n",
            "\n",
            "    accuracy                           0.87       396\n",
            "   macro avg       0.79      0.80      0.79       396\n",
            "weighted avg       0.87      0.87      0.87       396\n",
            "\n"
          ]
        },
        {
          "output_type": "execute_result",
          "data": {
            "text/plain": [
              "array([[ 42,  19,   2],\n",
              "       [ 14, 270,  11],\n",
              "       [  1,   6,  31]])"
            ]
          },
          "metadata": {},
          "execution_count": 18
        }
      ]
    },
    {
      "cell_type": "code",
      "metadata": {
        "colab": {
          "base_uri": "https://localhost:8080/"
        },
        "id": "Wz8PY7ufNsEz",
        "outputId": "b8e29888-3ddf-493c-ecc5-868cf2a4f3b3"
      },
      "source": [
        "from sklearn import svm\n",
        "model_svm = svm.SVC()\n",
        "model_svm.fit(X_train, Y_train)\n",
        "svm_predict=model_svm.predict(x_test)\n",
        "from sklearn.metrics import accuracy_score ,recall_score, precision_score,f1_score,confusion_matrix,classification_report\n",
        "print('accuracy score :\\n',accuracy_score(y_true=y_test,y_pred=svm_predict))\n",
        "print(classification_report(y_test,svm_predict))\n",
        "confusion_matrix(y_test,svm_predict)"
      ],
      "execution_count": null,
      "outputs": [
        {
          "output_type": "stream",
          "name": "stdout",
          "text": [
            "accuracy score :\n",
            " 0.76010101010101\n",
            "              precision    recall  f1-score   support\n",
            "\n",
            "           2       0.52      0.60      0.56        63\n",
            "           3       0.86      0.83      0.84       295\n",
            "           4       0.47      0.50      0.49        38\n",
            "\n",
            "    accuracy                           0.76       396\n",
            "   macro avg       0.62      0.64      0.63       396\n",
            "weighted avg       0.77      0.76      0.76       396\n",
            "\n"
          ]
        },
        {
          "output_type": "execute_result",
          "data": {
            "text/plain": [
              "array([[ 38,  22,   3],\n",
              "       [ 33, 244,  18],\n",
              "       [  2,  17,  19]])"
            ]
          },
          "metadata": {},
          "execution_count": 19
        }
      ]
    },
    {
      "cell_type": "markdown",
      "metadata": {
        "id": "_wM8nAOK1_Kx"
      },
      "source": [
        "# Hyperparameter tuning"
      ]
    },
    {
      "cell_type": "code",
      "metadata": {
        "colab": {
          "base_uri": "https://localhost:8080/"
        },
        "id": "63c1eRKp1-PS",
        "outputId": "bc1cbed6-13f8-417e-d4ea-7c01315d1dcf"
      },
      "source": [
        "from xgboost import XGBClassifier\n",
        "model_xgb=XGBClassifier(max_depth=10, learning_rate=0.1, n_estimators=180, verbosity=1, silent=None, objective='binary:logistic', booster='gbtree', n_jobs=1, nthread=None, gamma=0.1, random_state=40)\n",
        "model_xgb.fit(X_train,Y_train)\n",
        "xgb_predict=model_xgb.predict(x_test)\n",
        "print('accuracy score :\\n',accuracy_score(y_true=y_test,y_pred=xgb_predict))\n",
        "print(classification_report(y_test,xgb_predict))\n",
        "confusion_matrix(y_test,xgb_predict)"
      ],
      "execution_count": null,
      "outputs": [
        {
          "output_type": "stream",
          "name": "stdout",
          "text": [
            "accuracy score :\n",
            " 0.9419191919191919\n",
            "              precision    recall  f1-score   support\n",
            "\n",
            "           2       0.89      0.86      0.87        63\n",
            "           3       0.95      0.97      0.96       295\n",
            "           4       0.94      0.87      0.90        38\n",
            "\n",
            "    accuracy                           0.94       396\n",
            "   macro avg       0.93      0.90      0.91       396\n",
            "weighted avg       0.94      0.94      0.94       396\n",
            "\n"
          ]
        },
        {
          "output_type": "execute_result",
          "data": {
            "text/plain": [
              "array([[ 54,   9,   0],\n",
              "       [  7, 286,   2],\n",
              "       [  0,   5,  33]])"
            ]
          },
          "metadata": {},
          "execution_count": 46
        }
      ]
    },
    {
      "cell_type": "code",
      "metadata": {
        "colab": {
          "base_uri": "https://localhost:8080/"
        },
        "id": "l-C51e5n3WUV",
        "outputId": "46afde6a-38e0-43f0-bc15-539f33d3d812"
      },
      "source": [
        "from sklearn.ensemble import RandomForestClassifier\n",
        "model_RF=RandomForestClassifier(n_estimators=300, criterion='gini', max_depth=15, min_samples_split=2, min_samples_leaf=1, min_weight_fraction_leaf=0.0, max_features='auto', max_leaf_nodes=None, min_impurity_decrease=0.0, min_impurity_split=None, bootstrap=True,random_state=40)\n",
        "model_RF.fit(X_train,Y_train)\n",
        "RF_predict=model_RF.predict(x_test)\n",
        "print('accuracy score :\\n',accuracy_score(y_true=y_test,y_pred=RF_predict))\n",
        "print(classification_report(y_test,RF_predict))\n",
        "confusion_matrix(y_test,RF_predict)"
      ],
      "execution_count": null,
      "outputs": [
        {
          "output_type": "stream",
          "name": "stdout",
          "text": [
            "accuracy score :\n",
            " 0.9318181818181818\n",
            "              precision    recall  f1-score   support\n",
            "\n",
            "           2       0.89      0.87      0.88        63\n",
            "           3       0.94      0.97      0.96       295\n",
            "           4       0.90      0.74      0.81        38\n",
            "\n",
            "    accuracy                           0.93       396\n",
            "   macro avg       0.91      0.86      0.88       396\n",
            "weighted avg       0.93      0.93      0.93       396\n",
            "\n"
          ]
        },
        {
          "output_type": "execute_result",
          "data": {
            "text/plain": [
              "array([[ 55,   8,   0],\n",
              "       [  6, 286,   3],\n",
              "       [  1,   9,  28]])"
            ]
          },
          "metadata": {},
          "execution_count": 82
        }
      ]
    },
    {
      "cell_type": "code",
      "metadata": {
        "colab": {
          "base_uri": "https://localhost:8080/"
        },
        "id": "I7-_IuR_63Xt",
        "outputId": "49d5b9a7-80c3-47b7-f121-9c257d277433"
      },
      "source": [
        "import lightgbm as lgb\n",
        "model_lgb=lgb.LGBMClassifier(boosting_type='gbdt', num_leaves=31, max_depth=3, learning_rate=0.1, n_estimators=200, subsample_for_bin=200000, objective=None, class_weight=None, min_split_gain=0.0, min_child_weight=0.001, min_child_samples=20, subsample=1.0, subsample_freq=0, colsample_bytree=1.0, reg_alpha=0.0, reg_lambda=0.0, random_state=20)\n",
        "model_lgb.fit(X_train,Y_train)\n",
        "lgb_predict=model_lgb.predict(x_test)\n",
        "print('accuracy score :\\n',accuracy_score(y_true=y_test,y_pred=lgb_predict))\n",
        "print(classification_report(y_test,lgb_predict))\n",
        "confusion_matrix(y_test,lgb_predict)"
      ],
      "execution_count": null,
      "outputs": [
        {
          "output_type": "stream",
          "name": "stdout",
          "text": [
            "accuracy score :\n",
            " 0.9368686868686869\n",
            "              precision    recall  f1-score   support\n",
            "\n",
            "           2       0.87      0.86      0.86        63\n",
            "           3       0.95      0.97      0.96       295\n",
            "           4       0.94      0.82      0.87        38\n",
            "\n",
            "    accuracy                           0.94       396\n",
            "   macro avg       0.92      0.88      0.90       396\n",
            "weighted avg       0.94      0.94      0.94       396\n",
            "\n"
          ]
        },
        {
          "output_type": "execute_result",
          "data": {
            "text/plain": [
              "array([[ 54,   9,   0],\n",
              "       [  7, 286,   2],\n",
              "       [  1,   6,  31]])"
            ]
          },
          "metadata": {},
          "execution_count": 109
        }
      ]
    },
    {
      "cell_type": "code",
      "metadata": {
        "colab": {
          "base_uri": "https://localhost:8080/",
          "height": 143
        },
        "id": "ueg99RA4BqZK",
        "outputId": "1d7f1837-7ab8-4e5e-e64e-590b27382f56"
      },
      "source": [
        "Scores=[['Xgboost',0.9267,0.9419],['RandomForest',0.9166,0.9318],['lgb',0.9242,0.9368]]\n",
        "df=pd.DataFrame(Scores,columns=['Model','Accuracy before tuning','Accuracy after tuning'])\n",
        "df"
      ],
      "execution_count": null,
      "outputs": [
        {
          "output_type": "execute_result",
          "data": {
            "text/html": [
              "<div>\n",
              "<style scoped>\n",
              "    .dataframe tbody tr th:only-of-type {\n",
              "        vertical-align: middle;\n",
              "    }\n",
              "\n",
              "    .dataframe tbody tr th {\n",
              "        vertical-align: top;\n",
              "    }\n",
              "\n",
              "    .dataframe thead th {\n",
              "        text-align: right;\n",
              "    }\n",
              "</style>\n",
              "<table border=\"1\" class=\"dataframe\">\n",
              "  <thead>\n",
              "    <tr style=\"text-align: right;\">\n",
              "      <th></th>\n",
              "      <th>Model</th>\n",
              "      <th>Accuracy before tuning</th>\n",
              "      <th>Accuracy after tuning</th>\n",
              "    </tr>\n",
              "  </thead>\n",
              "  <tbody>\n",
              "    <tr>\n",
              "      <th>0</th>\n",
              "      <td>Xgboost</td>\n",
              "      <td>0.9267</td>\n",
              "      <td>0.9419</td>\n",
              "    </tr>\n",
              "    <tr>\n",
              "      <th>1</th>\n",
              "      <td>RandomForest</td>\n",
              "      <td>0.9166</td>\n",
              "      <td>0.9318</td>\n",
              "    </tr>\n",
              "    <tr>\n",
              "      <th>2</th>\n",
              "      <td>lgb</td>\n",
              "      <td>0.9242</td>\n",
              "      <td>0.9368</td>\n",
              "    </tr>\n",
              "  </tbody>\n",
              "</table>\n",
              "</div>"
            ],
            "text/plain": [
              "          Model  Accuracy before tuning  Accuracy after tuning\n",
              "0       Xgboost                  0.9267                 0.9419\n",
              "1  RandomForest                  0.9166                 0.9318\n",
              "2           lgb                  0.9242                 0.9368"
            ]
          },
          "metadata": {},
          "execution_count": 111
        }
      ]
    },
    {
      "cell_type": "markdown",
      "metadata": {
        "id": "gRCcIQbIBWXt"
      },
      "source": [
        "# Conclusion:\n",
        "Initial accuracy was not satisfactory so hyperparameter was done which shows promising results."
      ]
    }
  ]
}